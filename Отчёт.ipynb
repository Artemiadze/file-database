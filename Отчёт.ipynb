{
 "cells": [
  {
   "cell_type": "markdown",
   "metadata": {},
   "source": [
    "# Лабораторная работа №2\n",
    "## Файловая база данных на ЯП Python\n",
    "Выполнена студентом группы 23КНТ2 Власовым Артёмом Дмитриевичем"
   ]
  },
  {
   "cell_type": "markdown",
   "metadata": {},
   "source": [
    "Работа осущесвляется с помощью ЯП PYTHON, хранение данныых происходит в файлах EXCEL. Используются библиотеки pandas, openpyxl для работы с EXCEL файлами, OS для работы с устройством и tkinter для создания графического интерфейса"
   ]
  },
  {
   "cell_type": "markdown",
   "metadata": {},
   "source": [
    "За основу берётся база данных из первой лабораторной работы для хранения данных о студенте. Она состоит из 4 полей: ID - ключевое (ID > 0), Name (String), Email (String), Group (String)"
   ]
  },
  {
   "cell_type": "markdown",
   "metadata": {},
   "source": [
    "Запросы моего SQL надо писать в строке ввода в GUI и нажать на кнопку для выполнения скрипта. Данные скрипты sql под описаниями функции придуманны мной лично и выполняются только для данной программы."
   ]
  },
  {
   "cell_type": "markdown",
   "metadata": {},
   "source": [
    "## Алгоритмы"
   ]
  },
  {
   "cell_type": "markdown",
   "metadata": {},
   "source": [
    "### 1. Создание БД"
   ]
  },
  {
   "cell_type": "markdown",
   "metadata": {},
   "source": [
    "Функция для создания базы данных в формате файла Excel. Используется XlsxWriter в качестве движка для записи данных в файл Excel. В ходе выполнения фунцкии будет создана папка \"Databases\", если она ещё не создана, затем в данной папке создаётся БД в виде файла Excel с 4-мя столбцами, название которых передаётся в функцию, как и само название БД."
   ]
  },
  {
   "cell_type": "code",
   "execution_count": null,
   "metadata": {
    "vscode": {
     "languageId": "plaintext"
    }
   },
   "outputs": [],
   "source": [
    "def create_empty_excel(columns: list, filename: str, sheet_name: str = 'Sheet1'):\n",
    "    \"\"\" Функция создания базы данных в формате файлов Excel.\n",
    "    Используется XlsxWriter в качестве движка для записи данных в файл Excel.\"\"\"\n",
    "\n",
    "    df = pd.DataFrame(columns=columns)  # Создание двумерной табличной структуры данных\n",
    "\n",
    "    if not os.path.exists('Databases'):\n",
    "        os.makedirs('Databases')\n",
    "\n",
    "    filepath = os.path.join('Databases', filename)\n",
    "    # используется XlsxWriter в качестве движка для записи данных в файл Excel.\n",
    "    excel_writer = pd.ExcelWriter(filepath, engine='xlsxwriter')\n",
    "    df.to_excel(excel_writer, index=False, sheet_name=sheet_name, freeze_panes=(1, 0))\n",
    "    excel_writer._save()  # Сохранения изменений в файле Excel"
   ]
  },
  {
   "cell_type": "markdown",
   "metadata": {},
   "source": [
    "Cоответсвующий запрос: CREATE TABLE student"
   ]
  },
  {
   "cell_type": "code",
   "execution_count": null,
   "metadata": {
    "vscode": {
     "languageId": "plaintext"
    }
   },
   "outputs": [],
   "source": [
    "CREATE TABLE student"
   ]
  },
  {
   "cell_type": "markdown",
   "metadata": {},
   "source": [
    "### 2. Добавление новой записи в базу данных"
   ]
  },
  {
   "cell_type": "markdown",
   "metadata": {},
   "source": [
    "Добавление в БД новую строку целиком, если её еще не было. Если уже есть строка с таким же ID то в систему будет возвращено сообщение \"There is already a field with such a key value!\", \n",
    "если записи с таким ID ещё не существует, то в БД добавится новая запись. Сложность алгоритма линейная, т.е. О(n), где n - кол-во строк в БД."
   ]
  },
  {
   "cell_type": "code",
   "execution_count": null,
   "metadata": {
    "vscode": {
     "languageId": "plaintext"
    }
   },
   "outputs": [],
   "source": [
    "def insert_excel(information):\n",
    "    \"\"\" Добавление в БД новую строку целиком, если её еще не было\"\"\"\n",
    "    DB = openpyxl.load_workbook('Databases/student.xlsx')\n",
    "    sheet = DB['Sheet1']\n",
    "    \n",
    "    # Проверка на отрицательность ключевого поля\n",
    "    if information[0] < 0:\n",
    "        messagebox.showinfo(\"Ошибка\", \"Значение ключевого поля не может быть отрицательным!\")\n",
    "        return\n",
    "    info = parse_excel_to_dict_list('Databases/student.xlsx')\n",
    "    flag = 0\n",
    "    for i in info:\n",
    "        # Проверка на наличие ID в БД\n",
    "        if information[0] in i.values():\n",
    "            messagebox.showinfo(\"Ошибка\", \"Уже существует такая запись с таким же ключом\")\n",
    "            flag = 1\n",
    "    if flag == 0:\n",
    "        messagebox.showinfo(\"Добавление\", \"Ваши данные добавлены\")\n",
    "        sheet.append(information)\n",
    "    DB.save('Databases/student.xlsx')"
   ]
  },
  {
   "cell_type": "markdown",
   "metadata": {},
   "source": [
    "Cоответсвующий запрос: "
   ]
  },
  {
   "cell_type": "code",
   "execution_count": null,
   "metadata": {
    "vscode": {
     "languageId": "plaintext"
    }
   },
   "outputs": [],
   "source": [
    "INSERT 3 Pedro Pascal p@yandex.ru 23CST10"
   ]
  },
  {
   "cell_type": "markdown",
   "metadata": {},
   "source": [
    "### 3. Извлечение данных из БД"
   ]
  },
  {
   "cell_type": "markdown",
   "metadata": {},
   "source": [
    "Данный алгоритм реализуетяс через две функции: parse_excel_to_dict_list, get_data_to_ecxel. Функция parse_excel_to_dict_list берёт данные из БД и заносит в словарь для вывода на экран/поиска. Функция get_data_to_ecxel линейно ищет нужные строки по ключу, который в функцию передаёт пользователь. Функция находит все записи, совпадающие по значению с выводом на экран результатов поиска. Если пользователь помимо ключа вводит название стоблца который хочет вывести, то вместо всей строки с совпавшими данными выведется только значение из прописанного пользователем столбца. Сложность алгоритма линейная, т.е. О(n), где n - кол-во строк в БД.\n"
   ]
  },
  {
   "cell_type": "code",
   "execution_count": null,
   "metadata": {
    "vscode": {
     "languageId": "plaintext"
    }
   },
   "outputs": [],
   "source": [
    "def parse_excel_to_dict_list(filepath: str, sheet_name='Sheet1'):\n",
    "    \"\"\"Запись данных из таблицы в словари для вывода данных на экран или поиска данных\"\"\"\n",
    "\n",
    "    # Загружаем Excel файл в DataFrame\n",
    "    df = pd.read_excel(filepath, sheet_name=sheet_name)\n",
    "\n",
    "    # Преобразовывает каждую строку DataFrame в словарь, в котором ключами служат названия столбцов.\n",
    "    dict_list = df.to_dict(orient='records')\n",
    "\n",
    "    return dict_list\n",
    "\n",
    "\n",
    "def get_data_to_ecxel(parametr, colomn =\"nothing\"):\n",
    "    \"\"\" Функция выводит данные из словаря, по ключу, сам словарь создан в функции parse_excel_to_dict_list\"\"\"\n",
    "\n",
    "    info = parse_excel_to_dict_list('Databases/student.xlsx')\n",
    "    print_GUI = \"\"\n",
    "    # Заголовок для вывода только нужного элемента, где строка с совпавшим ключом\n",
    "    if colomn != \"nothing\":\n",
    "        print_GUI = colomn.upper()\n",
    "\n",
    "    for i in info:\n",
    "        if parametr in i.values():\n",
    "            if colomn == \"nothing\":\n",
    "                print_GUI = (print_GUI + \"\\n\" + str(i[\"ID\"]) + \" \" + str(i[\"Name\"]) + \" \" + \n",
    "                             str(i['Email']) + \" \" + str(i['Group']))\n",
    "            else:\n",
    "                print_GUI = print_GUI + \"\\n\" + str(i[colomn])\n",
    "    messagebox.showinfo('Извлечение', print_GUI)"
   ]
  },
  {
   "cell_type": "markdown",
   "metadata": {},
   "source": [
    "Соответствующий запрос:"
   ]
  },
  {
   "cell_type": "code",
   "execution_count": null,
   "metadata": {
    "vscode": {
     "languageId": "plaintext"
    }
   },
   "outputs": [],
   "source": [
    "SELECT \"parametr\" \"Colomn_name\"(опционально,если надо вывести конкретный столбец, а не всю строку)\n",
    "SELECT a@yandex.ru\n",
    "SELECT 23CST10 Name"
   ]
  },
  {
   "cell_type": "markdown",
   "metadata": {},
   "source": [
    "### 4. Удаление столбца"
   ]
  },
  {
   "cell_type": "markdown",
   "metadata": {},
   "source": [
    "Удаление из БД строки по её номеру происходит через индекс. Пользователь вводит номер строки, который хочет удалить, и компьютер удаляет запись с этим номером строки. Так как доступ к строке происходит по номеру, то алгоритм имеет сложность О(1)."
   ]
  },
  {
   "cell_type": "code",
   "execution_count": null,
   "metadata": {
    "vscode": {
     "languageId": "plaintext"
    }
   },
   "outputs": [],
   "source": [
    "def delete_rows(number_deleted_rows):\n",
    "    \"\"\" Удаление из БД строки по её номеру\"\"\"\n",
    "    DB = openpyxl.load_workbook('Databases/student.xlsx')\n",
    "    sheet = DB['Sheet1']\n",
    "    sheet.delete_rows(number_deleted_rows)\n",
    "    DB.save('Databases/student.xlsx')"
   ]
  },
  {
   "cell_type": "markdown",
   "metadata": {},
   "source": [
    "Соответствующий запрос:"
   ]
  },
  {
   "cell_type": "code",
   "execution_count": null,
   "metadata": {
    "vscode": {
     "languageId": "plaintext"
    }
   },
   "outputs": [],
   "source": [
    "DELETE \"number_deleted_rows\""
   ]
  },
  {
   "cell_type": "markdown",
   "metadata": {},
   "source": [
    "### 5. Очистка БД"
   ]
  },
  {
   "cell_type": "markdown",
   "metadata": {},
   "source": [
    "Алгоритм очищает всю БД от данных, оставляя в наличии саму БД, но уже без данных. Сложность алгоритма линейная, т.е О(n), так как происходит удаление все строк от второй до последней."
   ]
  },
  {
   "cell_type": "code",
   "execution_count": null,
   "metadata": {
    "vscode": {
     "languageId": "plaintext"
    }
   },
   "outputs": [],
   "source": [
    "def clean_database():\n",
    "    \"\"\"Очистка всей БД\"\"\"\n",
    "    DB = openpyxl.load_workbook('Databases/student.xlsx')\n",
    "    sheet = DB['Sheet1']\n",
    "    sheet.delete_rows(2, sheet.max_row - 1)\n",
    "    DB.save('Databases/student.xlsx')"
   ]
  },
  {
   "cell_type": "markdown",
   "metadata": {},
   "source": [
    "Соответствующий запрос:"
   ]
  },
  {
   "cell_type": "code",
   "execution_count": null,
   "metadata": {
    "vscode": {
     "languageId": "plaintext"
    }
   },
   "outputs": [],
   "source": [
    "CLEAR"
   ]
  },
  {
   "cell_type": "markdown",
   "metadata": {},
   "source": [
    "### 6. Вывод БД"
   ]
  },
  {
   "cell_type": "markdown",
   "metadata": {},
   "source": [
    "Вывод всей БД. Сложность алгоритма линейная, т.е О(n)"
   ]
  },
  {
   "cell_type": "code",
   "execution_count": null,
   "metadata": {
    "vscode": {
     "languageId": "plaintext"
    }
   },
   "outputs": [],
   "source": [
    "def print_backup():\n",
    "    \"\"\"Печать всей БД\"\"\"\n",
    "    DB = openpyxl.load_workbook('Databases/backup.xlsx')\n",
    "    sheet = DB['Sheet1']\n",
    "    print_to_console = \"\"\n",
    "    for row in sheet.rows:\n",
    "        string = ''\n",
    "        for cell in row:\n",
    "            string = string + str(cell.value) + ' '\n",
    "        print_to_console = print_to_console + \"\\n\" + string\n",
    "    messagebox.showinfo('Таблица', print_to_console)\n",
    "    DB.save('Databases/student.xlsx')"
   ]
  },
  {
   "cell_type": "markdown",
   "metadata": {},
   "source": [
    "Соответствующий запрос:"
   ]
  },
  {
   "cell_type": "code",
   "execution_count": null,
   "metadata": {
    "vscode": {
     "languageId": "plaintext"
    }
   },
   "outputs": [],
   "source": [
    "PRINT student"
   ]
  },
  {
   "cell_type": "markdown",
   "metadata": {},
   "source": [
    "### 7. Удаление БД"
   ]
  },
  {
   "cell_type": "markdown",
   "metadata": {},
   "source": [
    "Алгоритм полного удаления БД из системы. Сложность алгоритма О(1)"
   ]
  },
  {
   "cell_type": "code",
   "execution_count": null,
   "metadata": {
    "vscode": {
     "languageId": "plaintext"
    }
   },
   "outputs": [],
   "source": [
    "def remove_database():\n",
    "    \"\"\" Полное удаление БД из системы\"\"\"\n",
    "    os.remove('Databases/student.xlsx')"
   ]
  },
  {
   "cell_type": "markdown",
   "metadata": {},
   "source": [
    "Соответствующий запрос:"
   ]
  },
  {
   "cell_type": "code",
   "execution_count": null,
   "metadata": {
    "vscode": {
     "languageId": "plaintext"
    }
   },
   "outputs": [],
   "source": [
    "REMOVE student"
   ]
  },
  {
   "cell_type": "markdown",
   "metadata": {},
   "source": [
    "### 8. Создание BACKUP-файла"
   ]
  },
  {
   "cell_type": "markdown",
   "metadata": {},
   "source": [
    "Алгоритм создаёт новый файл, копирует данные из нашей БД в backup-файл и сохраняет всё. Сложность алгоритма О(1)."
   ]
  },
  {
   "cell_type": "code",
   "execution_count": null,
   "metadata": {
    "vscode": {
     "languageId": "plaintext"
    }
   },
   "outputs": [],
   "source": [
    "def create_backup():\n",
    "    \"\"\" Создаёт Backup файл и сохраняет туда данные из нашей базы данных\"\"\"\n",
    "    # Копируются данные из нашей БД\n",
    "    data = pd.read_excel('Databases/student.xlsx', sheet_name=\"Sheet1\")\n",
    "\n",
    "    create_empty_excel(columns=['ID', 'Name', 'Email', 'Group'], filename='backup.xlsx')\n",
    "    # Заполнение Backup файла нашими данными из BD\n",
    "    data.to_excel('Databases/backup.xlsx', sheet_name='Sheet1')\n",
    "\n",
    "    # удаление первого столбца ,в котором перечисляются индексы\n",
    "    myFile = openpyxl.load_workbook('Databases/student.xlsx')\n",
    "    sheet_myFile = myFile['Sheet1']\n",
    "    sheet_myFile.delete_cols(1)\n",
    "    myFile.save('Databases/student.xlsx')\n",
    "\n",
    "    backupFile = openpyxl.load_workbook('Databases/backup.xlsx')\n",
    "    sheet_backup = backupFile['Sheet1']\n",
    "    sheet_backup.delete_cols(1)\n",
    "    backupFile.save('Databases/backup.xlsx')"
   ]
  },
  {
   "cell_type": "markdown",
   "metadata": {},
   "source": [
    "Соответствующий запрос:"
   ]
  },
  {
   "cell_type": "code",
   "execution_count": null,
   "metadata": {
    "vscode": {
     "languageId": "plaintext"
    }
   },
   "outputs": [],
   "source": [
    "CREATE BACKUP"
   ]
  },
  {
   "cell_type": "markdown",
   "metadata": {},
   "source": [
    "### 9. Вывод backup-файла"
   ]
  },
  {
   "cell_type": "markdown",
   "metadata": {},
   "source": [
    "Вывод содержимого из backup-файла. Сложность алгоритма линейная, т.е О(n)"
   ]
  },
  {
   "cell_type": "code",
   "execution_count": null,
   "metadata": {
    "vscode": {
     "languageId": "plaintext"
    }
   },
   "outputs": [],
   "source": [
    "def print_backup():\n",
    "    \"\"\"Печать всей БД\"\"\"\n",
    "    DB = openpyxl.load_workbook('Databases/backup.xlsx')\n",
    "    sheet = DB['Sheet1']\n",
    "    print_to_console = \"\"\n",
    "    for row in sheet.rows:\n",
    "        string = ''\n",
    "        for cell in row:\n",
    "            string = string + str(cell.value) + ' '\n",
    "        print_to_console = print_to_console + \"\\n\" + string\n",
    "    messagebox.showinfo('Таблица', print_to_console)\n",
    "    DB.save('Databases/student.xlsx')"
   ]
  },
  {
   "cell_type": "markdown",
   "metadata": {},
   "source": [
    "Соответствующий запрос:"
   ]
  },
  {
   "cell_type": "code",
   "execution_count": null,
   "metadata": {
    "vscode": {
     "languageId": "plaintext"
    }
   },
   "outputs": [],
   "source": [
    "PRINT backup"
   ]
  },
  {
   "cell_type": "markdown",
   "metadata": {},
   "source": [
    "### 10. Удаление "
   ]
  },
  {
   "cell_type": "markdown",
   "metadata": {},
   "source": [
    "Алгоритм полного удаления backup-файла из системы. Сложность алгоритма О(1)"
   ]
  },
  {
   "cell_type": "code",
   "execution_count": null,
   "metadata": {
    "vscode": {
     "languageId": "plaintext"
    }
   },
   "outputs": [],
   "source": [
    "def remove_backup():\n",
    "    \"\"\"Полное удаление backup-файла из системы\"\"\"\n",
    "    os.remove('Databases/backup.xlsx')"
   ]
  },
  {
   "cell_type": "markdown",
   "metadata": {},
   "source": [
    "Соответствующий запрос:"
   ]
  },
  {
   "cell_type": "code",
   "execution_count": null,
   "metadata": {
    "vscode": {
     "languageId": "plaintext"
    }
   },
   "outputs": [],
   "source": [
    "REMOVE backup"
   ]
  }
 ],
 "metadata": {
  "language_info": {
   "name": "python"
  }
 },
 "nbformat": 4,
 "nbformat_minor": 2
}
